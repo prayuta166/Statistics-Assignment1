{
 "cells": [
  {
   "cell_type": "markdown",
   "id": "07c8c0b2",
   "metadata": {
    "id": "07c8c0b2"
   },
   "source": [
    "\n",
    "### 1. Find the Cartesian Product of the below given sets in the below cell. (In Python Code)\n",
    "\n",
    "A = set(['a','b','c'])\n",
    "\n",
    "S = {1,2,3}\n"
   ]
  },
  {
   "cell_type": "code",
   "execution_count": 30,
   "id": "18f7d178",
   "metadata": {},
   "outputs": [
    {
     "name": "stdout",
     "output_type": "stream",
     "text": [
      "The Cartesian product of A and S is: [('b', 1), ('b', 2), ('b', 3), ('a', 1), ('a', 2), ('a', 3), ('c', 1), ('c', 2), ('c', 3)]\n"
     ]
    }
   ],
   "source": [
    "A = set(['a','b','c'])\n",
    "S =  {1,2,3}\n",
    "Cartesian_product = [(a, b) for a in A for b in S]\n",
    "print(f\"The Cartesian product of A and S is: {Cartesian_product}\")"
   ]
  },
  {
   "cell_type": "markdown",
   "id": "3d43b9ee",
   "metadata": {
    "id": "3d43b9ee"
   },
   "source": [
    "### 2. Find all the possible permutations and number of permutations of A\n",
    "\n",
    "A = {'Red','Green','Blue'}\n"
   ]
  },
  {
   "cell_type": "code",
   "execution_count": 1,
   "id": "52c18588",
   "metadata": {
    "id": "52c18588"
   },
   "outputs": [
    {
     "data": {
      "text/plain": [
       "{('Blue', 'Green', 'Red'),\n",
       " ('Blue', 'Red', 'Green'),\n",
       " ('Green', 'Blue', 'Red'),\n",
       " ('Green', 'Red', 'Blue'),\n",
       " ('Red', 'Blue', 'Green'),\n",
       " ('Red', 'Green', 'Blue')}"
      ]
     },
     "execution_count": 1,
     "metadata": {},
     "output_type": "execute_result"
    }
   ],
   "source": [
    "A = {'Red','Green','Blue'}\n",
    "import itertools\n",
    "set(itertools.permutations(A))"
   ]
  },
  {
   "cell_type": "code",
   "execution_count": 29,
   "id": "51509b5e",
   "metadata": {
    "id": "51509b5e"
   },
   "outputs": [
    {
     "name": "stdout",
     "output_type": "stream",
     "text": [
      "6\n"
     ]
    }
   ],
   "source": [
    "import math\n",
    "import itertools\n",
    "num_permutations = math.perm(3)\n",
    "print(num_permutations)"
   ]
  },
  {
   "cell_type": "markdown",
   "id": "637ffa24",
   "metadata": {
    "id": "637ffa24"
   },
   "source": [
    "### 3. Research Question on Hypothesis Testing\n",
    "\n",
    "In previous years, 52% of parents believed that electronics and social media was the cause of their teenager’s lack of sleep. Do more parents today believe that their teenager’s lack of sleep is caused due to electronics and social media?\n",
    "\n",
    "**Population**: Parents with a teenager (age 13-18)  \n",
    "**Parameter of Interest**: p  \n",
    "\n",
    "**Null Hypothesis:** p = 0.52  \n",
    "**Alternative Hypthosis:** p > 0.52 (note that this is a one-sided test)\n",
    "\n",
    "**Data**: 1018 people were surveyed. 56% of those who were surveyed believe that their teenager’s lack of sleep is caused due to electronics and social media."
   ]
  },
  {
   "cell_type": "markdown",
   "id": "4786f83f",
   "metadata": {
    "id": "4786f83f"
   },
   "source": [
    "### Hint: Use  `proportions_ztest()` from `statsmodels`\n",
    "\n",
    "Note the argument `alternative=\"larger\"` indicating a one-sided test. The function returns two values - the z-statistic and the corresponding p-value."
   ]
  },
  {
   "cell_type": "code",
   "execution_count": 1,
   "id": "475fe79a",
   "metadata": {
    "id": "475fe79a"
   },
   "outputs": [
    {
     "data": {
      "text/plain": [
       "0.05"
      ]
     },
     "execution_count": 1,
     "metadata": {},
     "output_type": "execute_result"
    }
   ],
   "source": [
    "# significance = 5%\n",
    "5/100"
   ]
  },
  {
   "cell_type": "code",
   "execution_count": 2,
   "id": "b8225c5b",
   "metadata": {},
   "outputs": [],
   "source": [
    "# defining the parameters\n",
    "n = 1018\n",
    "pnull = 0.52\n",
    "phat = 0.56"
   ]
  },
  {
   "cell_type": "code",
   "execution_count": 7,
   "id": "22b3429a",
   "metadata": {},
   "outputs": [
    {
     "data": {
      "text/plain": [
       "(2.571067795759113, 0.005069273865860533)"
      ]
     },
     "execution_count": 7,
     "metadata": {},
     "output_type": "execute_result"
    }
   ],
   "source": [
    "import statsmodels.api as sm\n",
    "sm.stats.proportions_ztest(phat * n, n, pnull, alternative='larger')"
   ]
  },
  {
   "cell_type": "markdown",
   "id": "e64e5437",
   "metadata": {
    "id": "e64e5437"
   },
   "source": [
    "### What is your Conclusion of the hypothesis test\n"
   ]
  },
  {
   "cell_type": "raw",
   "id": "9b4d3dd9",
   "metadata": {
    "id": "4da83967"
   },
   "source": [
    "Since the calculated p-null value of the z-test is preety small,we can reject the Null hypothesis thet the percentage of \n",
    "parents who belived that their teenager's lack of sleep is caused due to electronics and social media, is as same as \n",
    "previous year's estimate i.e 52%.\n",
    "\n",
    "Although, we do not accept the alternate hypothesis, this informally means that there is good chance of the proportion\n",
    "being more than 52%."
   ]
  },
  {
   "cell_type": "markdown",
   "id": "4503f17c",
   "metadata": {
    "id": "4503f17c"
   },
   "source": [
    "### 4. Calculate the set difference between the 2 sets (set1 - multipes of 3 upto a range of 31 and set2 - multiples of upto a range of 31)"
   ]
  },
  {
   "cell_type": "code",
   "execution_count": 10,
   "id": "d2760c77",
   "metadata": {
    "id": "d2760c77"
   },
   "outputs": [
    {
     "name": "stdout",
     "output_type": "stream",
     "text": [
      "Set 1 (Multiples of 3): {3, 6, 9, 12, 15, 18, 21, 24, 27, 30}\n",
      "Set 2 (Multiples of 4): {4, 8, 12, 16, 20, 24, 28}\n",
      "Set Difference (Set 1 - Set 2): {3, 6, 9, 15, 18, 21, 27, 30}\n"
     ]
    }
   ],
   "source": [
    "set1 = set(range(3, 32, 3))\n",
    "set2 = set(range(4, 32, 4))\n",
    "difference_set = set1 - set2\n",
    "print(\"Set 1 (Multiples of 3):\", set1)\n",
    "print(\"Set 2 (Multiples of 4):\", set2)\n",
    "print(\"Set Difference (Set 1 - Set 2):\",difference_set)"
   ]
  },
  {
   "cell_type": "markdown",
   "id": "796c2e91",
   "metadata": {
    "id": "796c2e91"
   },
   "source": [
    "### 5. Calculate a function to generate random arrays with range of (1,100) and the naive functions to calculate Mean, Varience and Standard deviation for the array generated"
   ]
  },
  {
   "cell_type": "code",
   "execution_count": 24,
   "id": "95a43541",
   "metadata": {},
   "outputs": [
    {
     "name": "stdout",
     "output_type": "stream",
     "text": [
      "[   0    1    2 ... 1097 1098 1099]\n"
     ]
    }
   ],
   "source": [
    "import numpy as np\n",
    "array = np.arange(1100)\n",
    "print(array)\n"
   ]
  },
  {
   "cell_type": "code",
   "execution_count": 25,
   "id": "f54ddf06",
   "metadata": {},
   "outputs": [
    {
     "name": "stdout",
     "output_type": "stream",
     "text": [
      "\n",
      "Mean:  549.5\n"
     ]
    }
   ],
   "source": [
    "r1 = np.mean(array)\n",
    "print(\"\\nMean: \", r1)"
   ]
  },
  {
   "cell_type": "code",
   "execution_count": 26,
   "id": "50522789",
   "metadata": {},
   "outputs": [
    {
     "name": "stdout",
     "output_type": "stream",
     "text": [
      "\n",
      "std:  317.54251683829676\n"
     ]
    }
   ],
   "source": [
    "r2 = np.std(array)\n",
    "print(\"\\nstd: \", r2)"
   ]
  },
  {
   "cell_type": "code",
   "execution_count": 27,
   "id": "e79f7c11",
   "metadata": {},
   "outputs": [
    {
     "name": "stdout",
     "output_type": "stream",
     "text": [
      "\n",
      "variance:  100833.25\n"
     ]
    }
   ],
   "source": [
    "r3 = np.var(array)\n",
    "print(\"\\nvariance: \", r3)"
   ]
  }
 ],
 "metadata": {
  "colab": {
   "provenance": []
  },
  "kernelspec": {
   "display_name": "Python 3 (ipykernel)",
   "language": "python",
   "name": "python3"
  },
  "language_info": {
   "codemirror_mode": {
    "name": "ipython",
    "version": 3
   },
   "file_extension": ".py",
   "mimetype": "text/x-python",
   "name": "python",
   "nbconvert_exporter": "python",
   "pygments_lexer": "ipython3",
   "version": "3.11.4"
  }
 },
 "nbformat": 4,
 "nbformat_minor": 5
}
